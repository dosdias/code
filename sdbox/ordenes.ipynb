{
 "metadata": {
  "name": "ordenes"
 }, 
 "name": "ordenes", 
 "nbformat": 2, 
 "worksheets": [
  {
   "cells": [
    {
     "cell_type": "code", 
     "collapsed": true, 
     "input": "import pandas as pd", 
     "language": "python", 
     "outputs": [], 
     "prompt_number": 1
    }, 
    {
     "cell_type": "markdown", 
     "source": "read csv into dataframe\n"
    }, 
    {
     "cell_type": "code", 
     "collapsed": true, 
     "input": "bfp = '/home/uber/code/sdbox/payment.csv'\nhfp = '/home/uber/code/sdbox/hedges.csv'", 
     "language": "python", 
     "outputs": [], 
     "prompt_number": 9
    }, 
    {
     "cell_type": "code", 
     "collapsed": true, 
     "input": "dfb = pd.read_csv(bfp)\ndfh = pd.read_csv(hfp)\n\n", 
     "language": "python", 
     "outputs": [], 
     "prompt_number": 10
    }, 
    {
     "cell_type": "code", 
     "collapsed": true, 
     "input": "inner = dfb.merge(dfh,on='order_id')", 
     "language": "python", 
     "outputs": [], 
     "prompt_number": 11
    }, 
    {
     "cell_type": "code", 
     "collapsed": false, 
     "input": "print inner", 
     "language": "python", 
     "outputs": [
      {
       "output_type": "stream", 
       "stream": "stdout", 
       "text": "   order_id  username.x   paid   bankcode  username.y   hr\n0         1        keso    100        777        keso   10\n1         2         man    200        666         man   20\n2         3        keso    400        999        keso   40"
      }
     ], 
     "prompt_number": 12
    }, 
    {
     "cell_type": "code", 
     "collapsed": true, 
     "input": "", 
     "language": "python", 
     "outputs": []
    }
   ]
  }
 ]
}